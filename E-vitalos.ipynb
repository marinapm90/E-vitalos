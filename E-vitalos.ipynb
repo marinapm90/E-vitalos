{
 "cells": [
  {
   "cell_type": "code",
   "execution_count": 1,
   "metadata": {},
   "outputs": [],
   "source": [
    "from bs4 import BeautifulSoup\n",
    "import pandas as pd\n",
    "import requests\n",
    "\n",
    "import cv2\n",
    "from PIL import Image\n",
    "import pytesseract\n",
    "import re\n",
    "import numpy as np\n",
    "\n",
    "\n",
    "from pyzbar.pyzbar import decode\n",
    "\n",
    "import requests\n",
    "import json"
   ]
  },
  {
   "cell_type": "code",
   "execution_count": 2,
   "metadata": {},
   "outputs": [],
   "source": [
    "# Scrapping de la web e-aditivos.com para sacar la info de los aditivos.\n",
    "\n",
    "def get_table_additives():\n",
    "    URL = \"https://e-aditivos.com/\"\n",
    "\n",
    "    response = requests.get(URL)\n",
    "    soup = BeautifulSoup(response.text, \"html.parser\")\n",
    "    table = soup.find(\"table\")\n",
    "    output_rows = []\n",
    "    for table_row in table.findAll('tr'):\n",
    "        columns = table_row.findAll('td')\n",
    "        output_row = []\n",
    "        for column in columns:\n",
    "            output_row.append(column.text)\n",
    "            output_rows.append(output_row)\n",
    "    additives= pd.DataFrame(output_rows,columns=['id','tipo','origen','aditivo','clasificación'])[1:]\n",
    "    additives_obj = additives.select_dtypes(['object'])\n",
    "    additives[additives_obj.columns] = additives_obj.apply(lambda item: item.str.strip())\n",
    "    allergic_e ='E-1404','E-1410','E-1412','E-1413','E-1414','E-1420','E-1422','E1440','E-1442','E-1450','E-4511','E-4512','E-4513','E-327','E-106','E-101','E-270','E-325','E-326','E-472','E-478','E-480','E-482','E-481','E-966','E-150','E-260','E-330','E-300',\n",
    "    additives['aditivos_alergicos'] = np.where(additives['id'].isin(allergic_e), \"Warning, this could kill you!\", 'Dont worry, be happy!')\n",
    "    additives['id'].replace('E-','E', regex=True, inplace=True)\n",
    "    additives.drop_duplicates(keep='first',inplace=True)\n",
    "    return additives"
   ]
  },
  {
   "cell_type": "code",
   "execution_count": 3,
   "metadata": {},
   "outputs": [],
   "source": [
    "additives = get_table_additives()"
   ]
  },
  {
   "cell_type": "code",
   "execution_count": 4,
   "metadata": {},
   "outputs": [
    {
     "data": {
      "text/html": [
       "<div>\n",
       "<style scoped>\n",
       "    .dataframe tbody tr th:only-of-type {\n",
       "        vertical-align: middle;\n",
       "    }\n",
       "\n",
       "    .dataframe tbody tr th {\n",
       "        vertical-align: top;\n",
       "    }\n",
       "\n",
       "    .dataframe thead th {\n",
       "        text-align: right;\n",
       "    }\n",
       "</style>\n",
       "<table border=\"1\" class=\"dataframe\">\n",
       "  <thead>\n",
       "    <tr style=\"text-align: right;\">\n",
       "      <th></th>\n",
       "      <th>id</th>\n",
       "      <th>tipo</th>\n",
       "      <th>origen</th>\n",
       "      <th>aditivo</th>\n",
       "      <th>clasificación</th>\n",
       "      <th>aditivos_alergicos</th>\n",
       "    </tr>\n",
       "  </thead>\n",
       "  <tbody>\n",
       "    <tr>\n",
       "      <td>1</td>\n",
       "      <td>E100</td>\n",
       "      <td>No nocivo</td>\n",
       "      <td>Vegetal</td>\n",
       "      <td>Curcumina</td>\n",
       "      <td>Colorante Colorantes</td>\n",
       "      <td>Dont worry, be happy!</td>\n",
       "    </tr>\n",
       "    <tr>\n",
       "      <td>5</td>\n",
       "      <td>E101</td>\n",
       "      <td>No nocivo</td>\n",
       "      <td>Animal</td>\n",
       "      <td>Riboflavina</td>\n",
       "      <td>Colorante Colorantes</td>\n",
       "      <td>Warning, this could kill you!</td>\n",
       "    </tr>\n",
       "    <tr>\n",
       "      <td>10</td>\n",
       "      <td>E102</td>\n",
       "      <td>¡Peligroso!</td>\n",
       "      <td>Químico o sintético</td>\n",
       "      <td>Tartracina, Tartrazina, Tartrazine, Amarillo 5...</td>\n",
       "      <td>Colorante Colorantes</td>\n",
       "      <td>Dont worry, be happy!</td>\n",
       "    </tr>\n",
       "    <tr>\n",
       "      <td>15</td>\n",
       "      <td>E104</td>\n",
       "      <td>¡Peligroso!</td>\n",
       "      <td>Químico o sintético</td>\n",
       "      <td>Amarillo quinoleina, quinoline yellow</td>\n",
       "      <td>Colorante Colorantes</td>\n",
       "      <td>Dont worry, be happy!</td>\n",
       "    </tr>\n",
       "    <tr>\n",
       "      <td>20</td>\n",
       "      <td>E106</td>\n",
       "      <td>No nocivo</td>\n",
       "      <td>Indeterminado</td>\n",
       "      <td>Lactoflavina</td>\n",
       "      <td>Colorante Colorantes</td>\n",
       "      <td>Warning, this could kill you!</td>\n",
       "    </tr>\n",
       "    <tr>\n",
       "      <td>...</td>\n",
       "      <td>...</td>\n",
       "      <td>...</td>\n",
       "      <td>...</td>\n",
       "      <td>...</td>\n",
       "      <td>...</td>\n",
       "      <td>...</td>\n",
       "    </tr>\n",
       "    <tr>\n",
       "      <td>1330</td>\n",
       "      <td>E1422</td>\n",
       "      <td>Sospechoso</td>\n",
       "      <td>Químico o sintético</td>\n",
       "      <td>Adipato dialmidón acetilado</td>\n",
       "      <td>Estabilizante Estabilizantes</td>\n",
       "      <td>Warning, this could kill you!</td>\n",
       "    </tr>\n",
       "    <tr>\n",
       "      <td>1335</td>\n",
       "      <td>E1440</td>\n",
       "      <td>Sospechoso</td>\n",
       "      <td>Químico o sintético</td>\n",
       "      <td>Hidroxipropil almidón</td>\n",
       "      <td>Estabilizante Estabilizantes</td>\n",
       "      <td>Dont worry, be happy!</td>\n",
       "    </tr>\n",
       "    <tr>\n",
       "      <td>1340</td>\n",
       "      <td>E1442</td>\n",
       "      <td>Sospechoso</td>\n",
       "      <td>Químico o sintético</td>\n",
       "      <td>Fosfato dialmidón hidroxipropilado</td>\n",
       "      <td>Estabilizante Estabilizantes</td>\n",
       "      <td>Warning, this could kill you!</td>\n",
       "    </tr>\n",
       "    <tr>\n",
       "      <td>1345</td>\n",
       "      <td>E1450</td>\n",
       "      <td>Sospechoso</td>\n",
       "      <td>Químico o sintético</td>\n",
       "      <td>Octenil succinato sódico de almidón</td>\n",
       "      <td>Estabilizante Estabilizantes</td>\n",
       "      <td>Warning, this could kill you!</td>\n",
       "    </tr>\n",
       "    <tr>\n",
       "      <td>1350</td>\n",
       "      <td>E1518</td>\n",
       "      <td>¡Peligroso!</td>\n",
       "      <td>Químico o sintético</td>\n",
       "      <td>Gliceril mono, di y tri-acetato de calcio</td>\n",
       "      <td>Estabilizante Estabilizantes</td>\n",
       "      <td>Dont worry, be happy!</td>\n",
       "    </tr>\n",
       "  </tbody>\n",
       "</table>\n",
       "<p>271 rows × 6 columns</p>\n",
       "</div>"
      ],
      "text/plain": [
       "         id         tipo               origen  \\\n",
       "1      E100    No nocivo              Vegetal   \n",
       "5      E101    No nocivo               Animal   \n",
       "10     E102  ¡Peligroso!  Químico o sintético   \n",
       "15     E104  ¡Peligroso!  Químico o sintético   \n",
       "20     E106    No nocivo        Indeterminado   \n",
       "...     ...          ...                  ...   \n",
       "1330  E1422   Sospechoso  Químico o sintético   \n",
       "1335  E1440   Sospechoso  Químico o sintético   \n",
       "1340  E1442   Sospechoso  Químico o sintético   \n",
       "1345  E1450   Sospechoso  Químico o sintético   \n",
       "1350  E1518  ¡Peligroso!  Químico o sintético   \n",
       "\n",
       "                                                aditivo  \\\n",
       "1                                             Curcumina   \n",
       "5                                           Riboflavina   \n",
       "10    Tartracina, Tartrazina, Tartrazine, Amarillo 5...   \n",
       "15                Amarillo quinoleina, quinoline yellow   \n",
       "20                                         Lactoflavina   \n",
       "...                                                 ...   \n",
       "1330                        Adipato dialmidón acetilado   \n",
       "1335                              Hidroxipropil almidón   \n",
       "1340                 Fosfato dialmidón hidroxipropilado   \n",
       "1345                Octenil succinato sódico de almidón   \n",
       "1350          Gliceril mono, di y tri-acetato de calcio   \n",
       "\n",
       "                     clasificación             aditivos_alergicos  \n",
       "1             Colorante Colorantes          Dont worry, be happy!  \n",
       "5             Colorante Colorantes  Warning, this could kill you!  \n",
       "10            Colorante Colorantes          Dont worry, be happy!  \n",
       "15            Colorante Colorantes          Dont worry, be happy!  \n",
       "20            Colorante Colorantes  Warning, this could kill you!  \n",
       "...                            ...                            ...  \n",
       "1330  Estabilizante Estabilizantes  Warning, this could kill you!  \n",
       "1335  Estabilizante Estabilizantes          Dont worry, be happy!  \n",
       "1340  Estabilizante Estabilizantes  Warning, this could kill you!  \n",
       "1345  Estabilizante Estabilizantes  Warning, this could kill you!  \n",
       "1350  Estabilizante Estabilizantes          Dont worry, be happy!  \n",
       "\n",
       "[271 rows x 6 columns]"
      ]
     },
     "execution_count": 4,
     "metadata": {},
     "output_type": "execute_result"
    }
   ],
   "source": [
    "additives"
   ]
  },
  {
   "cell_type": "code",
   "execution_count": 6,
   "metadata": {},
   "outputs": [],
   "source": [
    "def capture_food():\n",
    "    url = 'http://192.168.20.122:8080/video'\n",
    "    cap = cv2.VideoCapture(url)\n",
    "    while(True):\n",
    "        ret, frame = cap.read()\n",
    "        if frame is not None:\n",
    "            cv2.imshow('frame',frame)\n",
    "            cv2.imwrite(filename='saved_img.jpg', img=frame)\n",
    "        q = cv2.waitKey(1)\n",
    "        if q == ord(\"q\"):\n",
    "            break\n",
    "    cv2.destroyAllWindows()\n",
    "    im = Image.open(\"saved_img.jpg\")\n",
    "\n",
    "    text = pytesseract.image_to_string(im, lang = 'spa')\n",
    "    return text\n",
    "\n",
    "#  tengo que cambiarlo y probar lo que vi con JLuna"
   ]
  },
  {
   "cell_type": "code",
   "execution_count": 7,
   "metadata": {},
   "outputs": [],
   "source": [
    "text = capture_food()"
   ]
  },
  {
   "cell_type": "code",
   "execution_count": 8,
   "metadata": {},
   "outputs": [
    {
     "data": {
      "text/plain": [
       "\"Tortilla Yorl:\\n\\nYork ham and potato omele'ta\\nINGREDIENTES: PAN DE MOLDE 41% (harina qe\\nagua, levadura, aceite corclin ia os) R lo,\\n\\nA dol\\n\\nE Es) q 7%\\n(patata , Íqu euizado, ace o\\nl cebolla, aceite de oliva, sa!\\ne corrector crece y Sal), FAC O\\nwa, almidón, ar\\nAN\\n(E-120), e (E-2),\\nvegetales, agua,\""
      ]
     },
     "execution_count": 8,
     "metadata": {},
     "output_type": "execute_result"
    }
   ],
   "source": [
    "text"
   ]
  },
  {
   "cell_type": "code",
   "execution_count": 9,
   "metadata": {},
   "outputs": [],
   "source": [
    "def find_text(text):\n",
    "    result = re.findall(r'E-\\d+', text)\n",
    "    result_2 = re.findall(r'E\\d+', text)\n",
    "    return result, result_2"
   ]
  },
  {
   "cell_type": "code",
   "execution_count": 10,
   "metadata": {},
   "outputs": [],
   "source": [
    "def get_homogenic_data(result,result_2):\n",
    "    values = []\n",
    "    for value in result:\n",
    "        values.append(value)\n",
    "    for value in result_2:\n",
    "        values.append(value)\n",
    "    for value in values:\n",
    "        if \"E-\" in value:\n",
    "            values = [item.replace('E-','E') for item in values]\n",
    "        else:\n",
    "            values\n",
    "    return values"
   ]
  },
  {
   "cell_type": "code",
   "execution_count": 11,
   "metadata": {},
   "outputs": [],
   "source": [
    "result, result_2 = find_text(text)"
   ]
  },
  {
   "cell_type": "code",
   "execution_count": 12,
   "metadata": {},
   "outputs": [],
   "source": [
    "values = get_homogenic_data(result,result_2)"
   ]
  },
  {
   "cell_type": "code",
   "execution_count": 13,
   "metadata": {},
   "outputs": [],
   "source": [
    "def get_allergies_dataframe(values):\n",
    "    allergies = additives[additives['id'].isin(values)]\n",
    "    return allergies"
   ]
  },
  {
   "cell_type": "code",
   "execution_count": 14,
   "metadata": {},
   "outputs": [],
   "source": [
    "allergies = get_allergies_dataframe(values)"
   ]
  },
  {
   "cell_type": "code",
   "execution_count": 15,
   "metadata": {},
   "outputs": [
    {
     "data": {
      "text/html": [
       "<div>\n",
       "<style scoped>\n",
       "    .dataframe tbody tr th:only-of-type {\n",
       "        vertical-align: middle;\n",
       "    }\n",
       "\n",
       "    .dataframe tbody tr th {\n",
       "        vertical-align: top;\n",
       "    }\n",
       "\n",
       "    .dataframe thead th {\n",
       "        text-align: right;\n",
       "    }\n",
       "</style>\n",
       "<table border=\"1\" class=\"dataframe\">\n",
       "  <thead>\n",
       "    <tr style=\"text-align: right;\">\n",
       "      <th></th>\n",
       "      <th>id</th>\n",
       "      <th>tipo</th>\n",
       "      <th>origen</th>\n",
       "      <th>aditivo</th>\n",
       "      <th>clasificación</th>\n",
       "      <th>aditivos_alergicos</th>\n",
       "    </tr>\n",
       "  </thead>\n",
       "  <tbody>\n",
       "    <tr>\n",
       "      <td>30</td>\n",
       "      <td>E120</td>\n",
       "      <td>¡Peligroso!</td>\n",
       "      <td>Animal</td>\n",
       "      <td>Cochinilla</td>\n",
       "      <td>Colorante Colorantes</td>\n",
       "      <td>Dont worry, be happy!</td>\n",
       "    </tr>\n",
       "  </tbody>\n",
       "</table>\n",
       "</div>"
      ],
      "text/plain": [
       "      id         tipo  origen     aditivo         clasificación  \\\n",
       "30  E120  ¡Peligroso!  Animal  Cochinilla  Colorante Colorantes   \n",
       "\n",
       "       aditivos_alergicos  \n",
       "30  Dont worry, be happy!  "
      ]
     },
     "execution_count": 15,
     "metadata": {},
     "output_type": "execute_result"
    }
   ],
   "source": [
    "allergies"
   ]
  },
  {
   "cell_type": "code",
   "execution_count": null,
   "metadata": {},
   "outputs": [],
   "source": [
    "#  Reconocimiento de codigo de barras para su lectura.\n",
    "\n",
    "def capture_barcode():\n",
    "    url = 'http://192.168.0.154:8080/video'\n",
    "    cap = cv2.VideoCapture(url)\n",
    "    lastCode = \"\"\n",
    "\n",
    "    while True:\n",
    "\n",
    "        _, frame = cap.read()\n",
    "\n",
    "\n",
    "        frame = cv2.flip(frame, 1) \n",
    "\n",
    "\n",
    "        gray = cv2.cvtColor(frame, cv2.COLOR_BGR2RGB) \n",
    "\n",
    "        barcodes = decode(gray)    \n",
    "\n",
    "\n",
    "        for barcode in barcodes:\n",
    "\n",
    "            (x,y,w,h) = barcode.rect\n",
    "\n",
    "            cv2.rectangle(frame, (x,y), (x+w,y+h), (0,0,255), 2)\n",
    "\n",
    "            barcodeType = barcode.type\n",
    "            barcodeData = barcode.data.decode(\"utf-8\")\n",
    "\n",
    "            dataText = f\"Data: {barcodeData}\"\n",
    "            dataType = f\"Type: {barcodeType}\"\n",
    "            cv2.putText(frame, dataText, (x,y-10), cv2.FONT_HERSHEY_SIMPLEX, 0.5, (0,0,255), 1)\n",
    "            cv2.putText(frame, dataType, (x,y-30), cv2.FONT_HERSHEY_SIMPLEX, 0.5, (0,0,255), 1)\n",
    "\n",
    "\n",
    "            if barcodeData != lastCode:\n",
    "                lastCode = barcodeData\n",
    "                #print(\"READ: \" + barcodeData)\n",
    "\n",
    "        cv2.imshow(\"original\", frame)\n",
    "\n",
    "\n",
    "        if cv2.waitKey(1) & 0xFF == ord('q'):\n",
    "            break\n",
    "\n",
    "    cap.release()\n",
    "    cv2.destroyAllWindows()\n",
    "    return barcodeData"
   ]
  },
  {
   "cell_type": "code",
   "execution_count": null,
   "metadata": {},
   "outputs": [],
   "source": [
    "barcodeData = capture_barcode()"
   ]
  },
  {
   "cell_type": "code",
   "execution_count": null,
   "metadata": {},
   "outputs": [],
   "source": [
    "def nutri_score():\n",
    "    URL = \"https://world.openfoodfacts.org/api/v0/product/\" + barcodeData +\".json\"\n",
    "\n",
    "    response = requests.get(URL)\n",
    "\n",
    "    contenant = response.content\n",
    "    res = json.loads(contenant)\n",
    "    nutri_score = res.get('product').get('nutrition_grades')\n",
    "\n",
    "    nutri_score = nutri_score.upper()\n",
    "    return res.get('product').get('nutrient_levels'), \"Nutri-Score:\" + \" \" + nutri_score"
   ]
  },
  {
   "cell_type": "code",
   "execution_count": null,
   "metadata": {},
   "outputs": [],
   "source": [
    "nutri = nutri_score()"
   ]
  },
  {
   "cell_type": "code",
   "execution_count": null,
   "metadata": {},
   "outputs": [],
   "source": [
    "nutri"
   ]
  }
 ],
 "metadata": {
  "kernelspec": {
   "display_name": "Python 3",
   "language": "python",
   "name": "python3"
  },
  "language_info": {
   "codemirror_mode": {
    "name": "ipython",
    "version": 3
   },
   "file_extension": ".py",
   "mimetype": "text/x-python",
   "name": "python",
   "nbconvert_exporter": "python",
   "pygments_lexer": "ipython3",
   "version": "3.6.8"
  }
 },
 "nbformat": 4,
 "nbformat_minor": 2
}
