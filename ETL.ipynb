{
 "cells": [
  {
   "cell_type": "code",
   "execution_count": 5,
   "metadata": {},
   "outputs": [
    {
     "ename": "NameError",
     "evalue": "name 'np' is not defined",
     "output_type": "error",
     "traceback": [
      "\u001b[0;31m---------------------------------------------------------------------------\u001b[0m",
      "\u001b[0;31mNameError\u001b[0m                                 Traceback (most recent call last)",
      "\u001b[0;32m<ipython-input-5-0b5dcb718f09>\u001b[0m in \u001b[0;36m<module>\u001b[0;34m\u001b[0m\n\u001b[1;32m     48\u001b[0m \u001b[0;34m\u001b[0m\u001b[0m\n\u001b[1;32m     49\u001b[0m \u001b[0;32mif\u001b[0m \u001b[0m__name__\u001b[0m\u001b[0;34m==\u001b[0m\u001b[0;34m\"__main__\"\u001b[0m\u001b[0;34m:\u001b[0m\u001b[0;34m\u001b[0m\u001b[0;34m\u001b[0m\u001b[0m\n\u001b[0;32m---> 50\u001b[0;31m     \u001b[0mmain\u001b[0m\u001b[0;34m(\u001b[0m\u001b[0;34m)\u001b[0m\u001b[0;34m\u001b[0m\u001b[0;34m\u001b[0m\u001b[0m\n\u001b[0m",
      "\u001b[0;32m<ipython-input-5-0b5dcb718f09>\u001b[0m in \u001b[0;36mmain\u001b[0;34m()\u001b[0m\n\u001b[1;32m     38\u001b[0m \u001b[0;34m\u001b[0m\u001b[0m\n\u001b[1;32m     39\u001b[0m \u001b[0;32mdef\u001b[0m \u001b[0mmain\u001b[0m\u001b[0;34m(\u001b[0m\u001b[0;34m)\u001b[0m\u001b[0;34m:\u001b[0m\u001b[0;34m\u001b[0m\u001b[0;34m\u001b[0m\u001b[0m\n\u001b[0;32m---> 40\u001b[0;31m     \u001b[0madditives\u001b[0m \u001b[0;34m=\u001b[0m \u001b[0mget_table\u001b[0m\u001b[0;34m(\u001b[0m\u001b[0;34m)\u001b[0m\u001b[0;34m\u001b[0m\u001b[0;34m\u001b[0m\u001b[0m\n\u001b[0m\u001b[1;32m     41\u001b[0m     \u001b[0mtext\u001b[0m \u001b[0;34m=\u001b[0m \u001b[0mphoto_ingredients\u001b[0m\u001b[0;34m(\u001b[0m\u001b[0;34m)\u001b[0m\u001b[0;34m\u001b[0m\u001b[0;34m\u001b[0m\u001b[0m\n\u001b[1;32m     42\u001b[0m     \u001b[0mresult\u001b[0m\u001b[0;34m,\u001b[0m \u001b[0mresult_2\u001b[0m \u001b[0;34m=\u001b[0m \u001b[0mfinding_text\u001b[0m\u001b[0;34m(\u001b[0m\u001b[0mtext\u001b[0m\u001b[0;34m)\u001b[0m\u001b[0;34m\u001b[0m\u001b[0;34m\u001b[0m\u001b[0m\n",
      "\u001b[0;32m<ipython-input-5-0b5dcb718f09>\u001b[0m in \u001b[0;36mget_table\u001b[0;34m()\u001b[0m\n\u001b[1;32m      5\u001b[0m \u001b[0;34m\u001b[0m\u001b[0m\n\u001b[1;32m      6\u001b[0m \u001b[0;32mdef\u001b[0m \u001b[0mget_table\u001b[0m\u001b[0;34m(\u001b[0m\u001b[0;34m)\u001b[0m\u001b[0;34m:\u001b[0m\u001b[0;34m\u001b[0m\u001b[0;34m\u001b[0m\u001b[0m\n\u001b[0;32m----> 7\u001b[0;31m     \u001b[0madditives\u001b[0m \u001b[0;34m=\u001b[0m \u001b[0mscrapping_web\u001b[0m\u001b[0;34m.\u001b[0m\u001b[0mget_table_additives\u001b[0m\u001b[0;34m(\u001b[0m\u001b[0;34m)\u001b[0m\u001b[0;34m\u001b[0m\u001b[0;34m\u001b[0m\u001b[0m\n\u001b[0m\u001b[1;32m      8\u001b[0m     \u001b[0;32mreturn\u001b[0m \u001b[0madditives\u001b[0m\u001b[0;34m\u001b[0m\u001b[0;34m\u001b[0m\u001b[0m\n\u001b[1;32m      9\u001b[0m \u001b[0;34m\u001b[0m\u001b[0m\n",
      "\u001b[0;32m~/final_project/scrapping_web.py\u001b[0m in \u001b[0;36mget_table_additives\u001b[0;34m()\u001b[0m\n\u001b[1;32m     21\u001b[0m     \u001b[0madditives_obj\u001b[0m \u001b[0;34m=\u001b[0m \u001b[0madditives\u001b[0m\u001b[0;34m.\u001b[0m\u001b[0mselect_dtypes\u001b[0m\u001b[0;34m(\u001b[0m\u001b[0;34m[\u001b[0m\u001b[0;34m'object'\u001b[0m\u001b[0;34m]\u001b[0m\u001b[0;34m)\u001b[0m\u001b[0;34m\u001b[0m\u001b[0;34m\u001b[0m\u001b[0m\n\u001b[1;32m     22\u001b[0m     \u001b[0madditives\u001b[0m\u001b[0;34m[\u001b[0m\u001b[0madditives_obj\u001b[0m\u001b[0;34m.\u001b[0m\u001b[0mcolumns\u001b[0m\u001b[0;34m]\u001b[0m \u001b[0;34m=\u001b[0m \u001b[0madditives_obj\u001b[0m\u001b[0;34m.\u001b[0m\u001b[0mapply\u001b[0m\u001b[0;34m(\u001b[0m\u001b[0;32mlambda\u001b[0m \u001b[0mitem\u001b[0m\u001b[0;34m:\u001b[0m \u001b[0mitem\u001b[0m\u001b[0;34m.\u001b[0m\u001b[0mstr\u001b[0m\u001b[0;34m.\u001b[0m\u001b[0mstrip\u001b[0m\u001b[0;34m(\u001b[0m\u001b[0;34m)\u001b[0m\u001b[0;34m)\u001b[0m\u001b[0;34m\u001b[0m\u001b[0;34m\u001b[0m\u001b[0m\n\u001b[0;32m---> 23\u001b[0;31m     \u001b[0mallergic_e\u001b[0m \u001b[0;34m=\u001b[0m \u001b[0;34m'E-1404'\u001b[0m\u001b[0;34m,\u001b[0m \u001b[0;34m'E-1410'\u001b[0m\u001b[0;34m,\u001b[0m \u001b[0;34m'E-1412'\u001b[0m\u001b[0;34m,\u001b[0m \u001b[0;34m'E-1413'\u001b[0m\u001b[0;34m,\u001b[0m \u001b[0;34m'E-1414'\u001b[0m\u001b[0;34m,\u001b[0m \u001b[0;34m'E-1420'\u001b[0m\u001b[0;34m,\u001b[0m \u001b[0;34m'E-1422'\u001b[0m\u001b[0;34m,\u001b[0m \u001b[0;34m'E1440'\u001b[0m\u001b[0;34m,\u001b[0m \u001b[0;34m'E-1442'\u001b[0m\u001b[0;34m,\u001b[0m \u001b[0;34m'E-1450'\u001b[0m\u001b[0;34m,\u001b[0m \u001b[0;34m'E-4511'\u001b[0m\u001b[0;34m,\u001b[0m \u001b[0;34m'E-4512'\u001b[0m\u001b[0;34m,\u001b[0m \u001b[0;34m'E-4513'\u001b[0m\u001b[0;34m,\u001b[0m \u001b[0;34m'E-327'\u001b[0m\u001b[0;34m,\u001b[0m \u001b[0;34m'E-106'\u001b[0m\u001b[0;34m,\u001b[0m \u001b[0;34m'E-101'\u001b[0m\u001b[0;34m,\u001b[0m \u001b[0;34m'E-270'\u001b[0m\u001b[0;34m,\u001b[0m \u001b[0;34m'E-325'\u001b[0m\u001b[0;34m,\u001b[0m \u001b[0;34m'E-326'\u001b[0m\u001b[0;34m,\u001b[0m \u001b[0;34m'E-472'\u001b[0m\u001b[0;34m,\u001b[0m \u001b[0;34m'E-478'\u001b[0m\u001b[0;34m,\u001b[0m \u001b[0;34m'E-480'\u001b[0m\u001b[0;34m,\u001b[0m \u001b[0;34m'E-482'\u001b[0m\u001b[0;34m,\u001b[0m \u001b[0;34m'E-481'\u001b[0m\u001b[0;34m,\u001b[0m \u001b[0;34m'E-966'\u001b[0m\u001b[0;34m,\u001b[0m \u001b[0;34m'E-150'\u001b[0m\u001b[0;34m,\u001b[0m \u001b[0;34m'E-260'\u001b[0m\u001b[0;34m,\u001b[0m \u001b[0;34m'E-330'\u001b[0m\u001b[0;34m,\u001b[0m \u001b[0;34m'E-300'\u001b[0m\u001b[0;34m\u001b[0m\u001b[0;34m\u001b[0m\u001b[0m\n\u001b[0m\u001b[1;32m     24\u001b[0m     \u001b[0madditives\u001b[0m\u001b[0;34m[\u001b[0m\u001b[0;34m'aditivos_alergicos'\u001b[0m\u001b[0;34m]\u001b[0m \u001b[0;34m=\u001b[0m \u001b[0mnp\u001b[0m\u001b[0;34m.\u001b[0m\u001b[0mwhere\u001b[0m\u001b[0;34m(\u001b[0m\u001b[0madditives\u001b[0m\u001b[0;34m[\u001b[0m\u001b[0;34m'id'\u001b[0m\u001b[0;34m]\u001b[0m\u001b[0;34m.\u001b[0m\u001b[0misin\u001b[0m\u001b[0;34m(\u001b[0m\u001b[0mallergic_e\u001b[0m\u001b[0;34m)\u001b[0m\u001b[0;34m,\u001b[0m \u001b[0;34m\"Warning, this could kill you!\"\u001b[0m\u001b[0;34m,\u001b[0m \u001b[0;34m'Dont worry, be happy!'\u001b[0m\u001b[0;34m)\u001b[0m\u001b[0;34m\u001b[0m\u001b[0;34m\u001b[0m\u001b[0m\n\u001b[1;32m     25\u001b[0m     \u001b[0madditives\u001b[0m\u001b[0;34m[\u001b[0m\u001b[0;34m'id'\u001b[0m\u001b[0;34m]\u001b[0m\u001b[0;34m.\u001b[0m\u001b[0mreplace\u001b[0m\u001b[0;34m(\u001b[0m\u001b[0;34m'E-'\u001b[0m\u001b[0;34m,\u001b[0m \u001b[0;34m'E'\u001b[0m\u001b[0;34m,\u001b[0m \u001b[0mregex\u001b[0m\u001b[0;34m=\u001b[0m\u001b[0;32mTrue\u001b[0m\u001b[0;34m,\u001b[0m \u001b[0minplace\u001b[0m\u001b[0;34m=\u001b[0m\u001b[0;32mTrue\u001b[0m\u001b[0;34m)\u001b[0m\u001b[0;34m\u001b[0m\u001b[0;34m\u001b[0m\u001b[0m\n",
      "\u001b[0;31mNameError\u001b[0m: name 'np' is not defined"
     ]
    }
   ],
   "source": [
    "import scrapping_web\n",
    "import scanning_ingredients\n",
    "import scanning_barcode\n",
    "\n",
    "\n",
    "def get_table():\n",
    "    additives = scrapping_web.get_table_additives()\n",
    "    return additives\n",
    "\n",
    "\n",
    "def photo_ingredients():\n",
    "    text = scanning_ingredients.capture_food()\n",
    "    return text\n",
    "\n",
    "\n",
    "def finding_text(text):\n",
    "    result, result_2 = scanning_ingredients.find_text(text)\n",
    "    return result, result_2\n",
    "\n",
    "\n",
    "def getting_homogenic_data(result, result_2):\n",
    "    values = scanning_ingredients.get_homogenic_data(result, result_2)\n",
    "    return values\n",
    "\n",
    "\n",
    "def get_dataframe(values):\n",
    "    allergies = scanning_ingredients.get_allergies_dataframe(values)\n",
    "    return allergies\n",
    "\n",
    "def read_barcode():\n",
    "    barcodeData = scanning_barcode.capture_barcode()\n",
    "    return barcodeData\n",
    "\n",
    "\n",
    "def get_nutri_score(barcodeData):\n",
    "    nutri = scanning_barcode.nutri_score(barcodeData)\n",
    "    return nutri\n",
    "\n",
    "def main():\n",
    "    additives = get_table()\n",
    "    text = photo_ingredients()\n",
    "    result, result_2 = finding_text(text)\n",
    "    values = getting_homogenic_data(result, result_2)\n",
    "    get_dataframe(values)\n",
    "    barcodeData = read_barcode()\n",
    "    nutri = get_nutri_score(barcodeData)\n",
    "\n",
    "\n",
    "if __name__==\"__main__\":\n",
    "    main()"
   ]
  }
 ],
 "metadata": {
  "kernelspec": {
   "display_name": "Python 3",
   "language": "python",
   "name": "python3"
  },
  "language_info": {
   "codemirror_mode": {
    "name": "ipython",
    "version": 3
   },
   "file_extension": ".py",
   "mimetype": "text/x-python",
   "name": "python",
   "nbconvert_exporter": "python",
   "pygments_lexer": "ipython3",
   "version": "3.6.8"
  }
 },
 "nbformat": 4,
 "nbformat_minor": 2
}
